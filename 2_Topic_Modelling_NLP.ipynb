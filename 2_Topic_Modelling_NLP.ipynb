{
  "cells": [
    {
      "cell_type": "markdown",
      "metadata": {
        "id": "TSiMTrF8itHo"
      },
      "source": [
        "### In this notebook we will perform the word embedding & topic modeling & Cosine Similarity\n",
        "\n",
        "***we merged the three chapters to perform the topic modeling, in order to perform cosine similarity to select which chapter the new input should go with.***"
      ]
    },
    {
      "cell_type": "code",
      "execution_count": null,
      "metadata": {
        "id": "c55did8QitHs"
      },
      "outputs": [],
      "source": [
        "import pandas as pd\n",
        "import numpy as np\n",
        "import pickle\n",
        "\n",
        "# gensim\n",
        "from gensim import corpora, models, similarities, matutils\n",
        "\n",
        "# sklearn\n",
        "from sklearn.feature_extraction.text import CountVectorizer, TfidfVectorizer\n",
        "from sklearn.decomposition import TruncatedSVD\n",
        "from sklearn.decomposition import NMF"
      ]
    },
    {
      "cell_type": "markdown",
      "metadata": {
        "id": "9Uy2h57hitHu"
      },
      "source": [
        "### Read the data and pickle file"
      ]
    },
    {
      "cell_type": "code",
      "execution_count": null,
      "metadata": {
        "id": "mEfI8ohyitHv"
      },
      "outputs": [],
      "source": [
        "df02 = pd.read_csv('all_chapters_3_rows.csv')"
      ]
    },
    {
      "cell_type": "code",
      "execution_count": null,
      "metadata": {
        "id": "3a1CJHrritHw"
      },
      "outputs": [],
      "source": [
        "# reading the stop words list with pickle\n",
        "with open ('stop_words.ob', 'rb') as fp:\n",
        "    stop_words = pickle.load(fp)"
      ]
    },
    {
      "cell_type": "code",
      "execution_count": null,
      "metadata": {
        "id": "a8T5gXpOitHw",
        "outputId": "173697b9-bdcb-4d37-ef4f-95e270ea8faf"
      },
      "outputs": [
        {
          "data": {
            "text/plain": [
              "Index(['string_values'], dtype='object')"
            ]
          },
          "execution_count": 8,
          "metadata": {},
          "output_type": "execute_result"
        }
      ],
      "source": [
        "df02.columns"
      ]
    },
    {
      "cell_type": "code",
      "execution_count": null,
      "metadata": {
        "id": "Nm8ymiITitHy"
      },
      "outputs": [],
      "source": [
        "# Declare a list that is to be converted into a column\n",
        "ch_no = ['ear_nose', 'musculoskeletal', 'respiratory']\n",
        "\n",
        "# Using 'ch_no' as the column name\n",
        "# and equating it to the list\n",
        "df02['Ch_No'] = ch_no"
      ]
    },
    {
      "cell_type": "code",
      "execution_count": null,
      "metadata": {
        "id": "fb0fHAa8itHz",
        "outputId": "da5b741b-1253-4eb0-f8a6-b8757b02ccfc"
      },
      "outputs": [
        {
          "data": {
            "text/html": [
              "<div>\n",
              "<style scoped>\n",
              "    .dataframe tbody tr th:only-of-type {\n",
              "        vertical-align: middle;\n",
              "    }\n",
              "\n",
              "    .dataframe tbody tr th {\n",
              "        vertical-align: top;\n",
              "    }\n",
              "\n",
              "    .dataframe thead th {\n",
              "        text-align: right;\n",
              "    }\n",
              "</style>\n",
              "<table border=\"1\" class=\"dataframe\">\n",
              "  <thead>\n",
              "    <tr style=\"text-align: right;\">\n",
              "      <th></th>\n",
              "      <th>string_values</th>\n",
              "      <th>Ch_No</th>\n",
              "    </tr>\n",
              "  </thead>\n",
              "  <tbody>\n",
              "    <tr>\n",
              "      <th>0</th>\n",
              "      <td>ear nose throat disorder introduction ear nose...</td>\n",
              "      <td>ear_nose</td>\n",
              "    </tr>\n",
              "    <tr>\n",
              "      <th>1</th>\n",
              "      <td>musculoskeletal disorder introduction complex ...</td>\n",
              "      <td>musculoskeletal</td>\n",
              "    </tr>\n",
              "    <tr>\n",
              "      <th>2</th>\n",
              "      <td>respiratory disorder introduction respiratory ...</td>\n",
              "      <td>respiratory</td>\n",
              "    </tr>\n",
              "  </tbody>\n",
              "</table>\n",
              "</div>"
            ],
            "text/plain": [
              "                                       string_values            Ch_No\n",
              "0  ear nose throat disorder introduction ear nose...         ear_nose\n",
              "1  musculoskeletal disorder introduction complex ...  musculoskeletal\n",
              "2  respiratory disorder introduction respiratory ...      respiratory"
            ]
          },
          "execution_count": 10,
          "metadata": {},
          "output_type": "execute_result"
        }
      ],
      "source": [
        "df02"
      ]
    },
    {
      "cell_type": "markdown",
      "metadata": {
        "id": "Y5Ztd9-MitH0"
      },
      "source": [
        "### Word Embedding"
      ]
    },
    {
      "cell_type": "code",
      "execution_count": null,
      "metadata": {
        "id": "3UTM-looitH0",
        "outputId": "af3091f6-1962-4286-ffd4-fd4182f2f9e1"
      },
      "outputs": [
        {
          "data": {
            "text/plain": [
              "0    ear nose throat disorder introduction ear nose...\n",
              "1    musculoskeletal disorder introduction complex ...\n",
              "2    respiratory disorder introduction respiratory ...\n",
              "Name: string_values, dtype: object"
            ]
          },
          "execution_count": 15,
          "metadata": {},
          "output_type": "execute_result"
        }
      ],
      "source": [
        "df02['string_values']"
      ]
    },
    {
      "cell_type": "code",
      "execution_count": null,
      "metadata": {
        "id": "XQtswraGitH1",
        "outputId": "20fdde49-fcb9-4a21-b85c-f297084d275c"
      },
      "outputs": [
        {
          "name": "stderr",
          "output_type": "stream",
          "text": [
            "/Users/hs/Documents/SDAIA_DS_T5/Course_Material/NBM_Unsupervised_Gamma/curriculum/.venv/lib/python3.9/site-packages/sklearn/feature_extraction/text.py:396: UserWarning: Your stop_words may be inconsistent with your preprocessing. Tokenizing the stop words generated tokens ['00050', '10', '1186', '2015', '5674', 'coal', 'doi', 'gram', 'leg'] not in stop_words.\n",
            "  warnings.warn(\n"
          ]
        }
      ],
      "source": [
        "# Create a CountVectorizer for parsing/counting words\n",
        "count_vectorizer = CountVectorizer(stop_words=stop_words)\n",
        "\n",
        "doc_word_cv = count_vectorizer.fit_transform(df02['string_values'])"
      ]
    },
    {
      "cell_type": "code",
      "execution_count": null,
      "metadata": {
        "id": "RDNXU5QkitH1",
        "outputId": "3feb1227-f8fa-4b45-890f-722f10db84e2"
      },
      "outputs": [
        {
          "data": {
            "text/html": [
              "<div>\n",
              "<style scoped>\n",
              "    .dataframe tbody tr th:only-of-type {\n",
              "        vertical-align: middle;\n",
              "    }\n",
              "\n",
              "    .dataframe tbody tr th {\n",
              "        vertical-align: top;\n",
              "    }\n",
              "\n",
              "    .dataframe thead th {\n",
              "        text-align: right;\n",
              "    }\n",
              "</style>\n",
              "<table border=\"1\" class=\"dataframe\">\n",
              "  <thead>\n",
              "    <tr style=\"text-align: right;\">\n",
              "      <th></th>\n",
              "      <th>aap</th>\n",
              "      <th>abdomen</th>\n",
              "      <th>abduct</th>\n",
              "      <th>abducted</th>\n",
              "      <th>abducting</th>\n",
              "      <th>abduction</th>\n",
              "      <th>abductor</th>\n",
              "      <th>abducts</th>\n",
              "      <th>abgs</th>\n",
              "      <th>ability</th>\n",
              "      <th>...</th>\n",
              "      <th>ﬁjacksﬂ</th>\n",
              "      <th>ﬁmicroatelectasisﬂ</th>\n",
              "      <th>ﬁout</th>\n",
              "      <th>ﬁpunched</th>\n",
              "      <th>ﬁslowing</th>\n",
              "      <th>ﬁtennis</th>\n",
              "      <th>ﬁthumbprintﬂ</th>\n",
              "      <th>ﬁvoice</th>\n",
              "      <th>ﬁwhiteoutsﬂ</th>\n",
              "      <th>ﬁwingﬂ</th>\n",
              "    </tr>\n",
              "    <tr>\n",
              "      <th>Ch_No</th>\n",
              "      <th></th>\n",
              "      <th></th>\n",
              "      <th></th>\n",
              "      <th></th>\n",
              "      <th></th>\n",
              "      <th></th>\n",
              "      <th></th>\n",
              "      <th></th>\n",
              "      <th></th>\n",
              "      <th></th>\n",
              "      <th></th>\n",
              "      <th></th>\n",
              "      <th></th>\n",
              "      <th></th>\n",
              "      <th></th>\n",
              "      <th></th>\n",
              "      <th></th>\n",
              "      <th></th>\n",
              "      <th></th>\n",
              "      <th></th>\n",
              "      <th></th>\n",
              "    </tr>\n",
              "  </thead>\n",
              "  <tbody>\n",
              "    <tr>\n",
              "      <th>ear_nose</th>\n",
              "      <td>0</td>\n",
              "      <td>0</td>\n",
              "      <td>0</td>\n",
              "      <td>1</td>\n",
              "      <td>0</td>\n",
              "      <td>0</td>\n",
              "      <td>0</td>\n",
              "      <td>0</td>\n",
              "      <td>0</td>\n",
              "      <td>2</td>\n",
              "      <td>...</td>\n",
              "      <td>0</td>\n",
              "      <td>0</td>\n",
              "      <td>0</td>\n",
              "      <td>0</td>\n",
              "      <td>0</td>\n",
              "      <td>0</td>\n",
              "      <td>0</td>\n",
              "      <td>0</td>\n",
              "      <td>0</td>\n",
              "      <td>0</td>\n",
              "    </tr>\n",
              "    <tr>\n",
              "      <th>musculoskeletal</th>\n",
              "      <td>0</td>\n",
              "      <td>1</td>\n",
              "      <td>2</td>\n",
              "      <td>2</td>\n",
              "      <td>2</td>\n",
              "      <td>10</td>\n",
              "      <td>1</td>\n",
              "      <td>1</td>\n",
              "      <td>0</td>\n",
              "      <td>2</td>\n",
              "      <td>...</td>\n",
              "      <td>1</td>\n",
              "      <td>0</td>\n",
              "      <td>0</td>\n",
              "      <td>1</td>\n",
              "      <td>0</td>\n",
              "      <td>1</td>\n",
              "      <td>0</td>\n",
              "      <td>0</td>\n",
              "      <td>0</td>\n",
              "      <td>1</td>\n",
              "    </tr>\n",
              "    <tr>\n",
              "      <th>respiratory</th>\n",
              "      <td>1</td>\n",
              "      <td>1</td>\n",
              "      <td>0</td>\n",
              "      <td>0</td>\n",
              "      <td>0</td>\n",
              "      <td>0</td>\n",
              "      <td>0</td>\n",
              "      <td>0</td>\n",
              "      <td>1</td>\n",
              "      <td>5</td>\n",
              "      <td>...</td>\n",
              "      <td>0</td>\n",
              "      <td>1</td>\n",
              "      <td>1</td>\n",
              "      <td>0</td>\n",
              "      <td>1</td>\n",
              "      <td>0</td>\n",
              "      <td>1</td>\n",
              "      <td>1</td>\n",
              "      <td>1</td>\n",
              "      <td>0</td>\n",
              "    </tr>\n",
              "  </tbody>\n",
              "</table>\n",
              "<p>3 rows × 5129 columns</p>\n",
              "</div>"
            ],
            "text/plain": [
              "                 aap  abdomen  abduct  abducted  abducting  abduction  \\\n",
              "Ch_No                                                                   \n",
              "ear_nose           0        0       0         1          0          0   \n",
              "musculoskeletal    0        1       2         2          2         10   \n",
              "respiratory        1        1       0         0          0          0   \n",
              "\n",
              "                 abductor  abducts  abgs  ability  ...  ﬁjacksﬂ  \\\n",
              "Ch_No                                              ...            \n",
              "ear_nose                0        0     0        2  ...        0   \n",
              "musculoskeletal         1        1     0        2  ...        1   \n",
              "respiratory             0        0     1        5  ...        0   \n",
              "\n",
              "                 ﬁmicroatelectasisﬂ  ﬁout  ﬁpunched  ﬁslowing  ﬁtennis  \\\n",
              "Ch_No                                                                    \n",
              "ear_nose                          0     0         0         0        0   \n",
              "musculoskeletal                   0     0         1         0        1   \n",
              "respiratory                       1     1         0         1        0   \n",
              "\n",
              "                 ﬁthumbprintﬂ  ﬁvoice  ﬁwhiteoutsﬂ  ﬁwingﬂ  \n",
              "Ch_No                                                       \n",
              "ear_nose                    0       0            0       0  \n",
              "musculoskeletal             0       0            0       1  \n",
              "respiratory                 1       1            1       0  \n",
              "\n",
              "[3 rows x 5129 columns]"
            ]
          },
          "execution_count": 17,
          "metadata": {},
          "output_type": "execute_result"
        }
      ],
      "source": [
        "pd.DataFrame(doc_word_cv.toarray(), index=df02['Ch_No'], columns = count_vectorizer.get_feature_names_out()).head()"
      ]
    },
    {
      "cell_type": "code",
      "execution_count": null,
      "metadata": {
        "id": "TAkig6qSitH2",
        "outputId": "7b869ac4-e04b-43e3-c0e7-395416e726ed"
      },
      "outputs": [
        {
          "name": "stderr",
          "output_type": "stream",
          "text": [
            "/Users/hs/Documents/SDAIA_DS_T5/Course_Material/NBM_Unsupervised_Gamma/curriculum/.venv/lib/python3.9/site-packages/sklearn/feature_extraction/text.py:396: UserWarning: Your stop_words may be inconsistent with your preprocessing. Tokenizing the stop words generated tokens ['00050', '10', '1186', '2015', '5674', 'coal', 'doi', 'gram', 'leg'] not in stop_words.\n",
            "  warnings.warn(\n"
          ]
        }
      ],
      "source": [
        "# Create a TfidfVectorizer for parsing/counting words\n",
        "tfidf = TfidfVectorizer(stop_words=stop_words)\n",
        "\n",
        "doc_word_tfidf = tfidf.fit_transform(df02['string_values'])"
      ]
    },
    {
      "cell_type": "code",
      "execution_count": null,
      "metadata": {
        "id": "-zZQhKsLitH2",
        "outputId": "c483c11b-4f5c-4d1e-8b19-20642dfa31c0"
      },
      "outputs": [
        {
          "data": {
            "text/html": [
              "<div>\n",
              "<style scoped>\n",
              "    .dataframe tbody tr th:only-of-type {\n",
              "        vertical-align: middle;\n",
              "    }\n",
              "\n",
              "    .dataframe tbody tr th {\n",
              "        vertical-align: top;\n",
              "    }\n",
              "\n",
              "    .dataframe thead th {\n",
              "        text-align: right;\n",
              "    }\n",
              "</style>\n",
              "<table border=\"1\" class=\"dataframe\">\n",
              "  <thead>\n",
              "    <tr style=\"text-align: right;\">\n",
              "      <th></th>\n",
              "      <th>aap</th>\n",
              "      <th>abdomen</th>\n",
              "      <th>abduct</th>\n",
              "      <th>abducted</th>\n",
              "      <th>abducting</th>\n",
              "      <th>abduction</th>\n",
              "      <th>abductor</th>\n",
              "      <th>abducts</th>\n",
              "      <th>abgs</th>\n",
              "      <th>ability</th>\n",
              "      <th>...</th>\n",
              "      <th>ﬁjacksﬂ</th>\n",
              "      <th>ﬁmicroatelectasisﬂ</th>\n",
              "      <th>ﬁout</th>\n",
              "      <th>ﬁpunched</th>\n",
              "      <th>ﬁslowing</th>\n",
              "      <th>ﬁtennis</th>\n",
              "      <th>ﬁthumbprintﬂ</th>\n",
              "      <th>ﬁvoice</th>\n",
              "      <th>ﬁwhiteoutsﬂ</th>\n",
              "      <th>ﬁwingﬂ</th>\n",
              "    </tr>\n",
              "    <tr>\n",
              "      <th>Ch_No</th>\n",
              "      <th></th>\n",
              "      <th></th>\n",
              "      <th></th>\n",
              "      <th></th>\n",
              "      <th></th>\n",
              "      <th></th>\n",
              "      <th></th>\n",
              "      <th></th>\n",
              "      <th></th>\n",
              "      <th></th>\n",
              "      <th></th>\n",
              "      <th></th>\n",
              "      <th></th>\n",
              "      <th></th>\n",
              "      <th></th>\n",
              "      <th></th>\n",
              "      <th></th>\n",
              "      <th></th>\n",
              "      <th></th>\n",
              "      <th></th>\n",
              "      <th></th>\n",
              "    </tr>\n",
              "  </thead>\n",
              "  <tbody>\n",
              "    <tr>\n",
              "      <th>ear_nose</th>\n",
              "      <td>0.000000</td>\n",
              "      <td>0.000000</td>\n",
              "      <td>0.000000</td>\n",
              "      <td>0.002908</td>\n",
              "      <td>0.000000</td>\n",
              "      <td>0.000000</td>\n",
              "      <td>0.000000</td>\n",
              "      <td>0.000000</td>\n",
              "      <td>0.000000</td>\n",
              "      <td>0.004516</td>\n",
              "      <td>...</td>\n",
              "      <td>0.000000</td>\n",
              "      <td>0.000000</td>\n",
              "      <td>0.000000</td>\n",
              "      <td>0.000000</td>\n",
              "      <td>0.000000</td>\n",
              "      <td>0.000000</td>\n",
              "      <td>0.000000</td>\n",
              "      <td>0.000000</td>\n",
              "      <td>0.000000</td>\n",
              "      <td>0.000000</td>\n",
              "    </tr>\n",
              "    <tr>\n",
              "      <th>musculoskeletal</th>\n",
              "      <td>0.000000</td>\n",
              "      <td>0.002918</td>\n",
              "      <td>0.007673</td>\n",
              "      <td>0.005836</td>\n",
              "      <td>0.007673</td>\n",
              "      <td>0.038366</td>\n",
              "      <td>0.003837</td>\n",
              "      <td>0.003837</td>\n",
              "      <td>0.000000</td>\n",
              "      <td>0.004532</td>\n",
              "      <td>...</td>\n",
              "      <td>0.003837</td>\n",
              "      <td>0.000000</td>\n",
              "      <td>0.000000</td>\n",
              "      <td>0.003837</td>\n",
              "      <td>0.000000</td>\n",
              "      <td>0.003837</td>\n",
              "      <td>0.000000</td>\n",
              "      <td>0.000000</td>\n",
              "      <td>0.000000</td>\n",
              "      <td>0.003837</td>\n",
              "    </tr>\n",
              "    <tr>\n",
              "      <th>respiratory</th>\n",
              "      <td>0.004619</td>\n",
              "      <td>0.003513</td>\n",
              "      <td>0.000000</td>\n",
              "      <td>0.000000</td>\n",
              "      <td>0.000000</td>\n",
              "      <td>0.000000</td>\n",
              "      <td>0.000000</td>\n",
              "      <td>0.000000</td>\n",
              "      <td>0.004619</td>\n",
              "      <td>0.013641</td>\n",
              "      <td>...</td>\n",
              "      <td>0.000000</td>\n",
              "      <td>0.004619</td>\n",
              "      <td>0.004619</td>\n",
              "      <td>0.000000</td>\n",
              "      <td>0.004619</td>\n",
              "      <td>0.000000</td>\n",
              "      <td>0.004619</td>\n",
              "      <td>0.004619</td>\n",
              "      <td>0.004619</td>\n",
              "      <td>0.000000</td>\n",
              "    </tr>\n",
              "  </tbody>\n",
              "</table>\n",
              "<p>3 rows × 5129 columns</p>\n",
              "</div>"
            ],
            "text/plain": [
              "                      aap   abdomen    abduct  abducted  abducting  abduction  \\\n",
              "Ch_No                                                                           \n",
              "ear_nose         0.000000  0.000000  0.000000  0.002908   0.000000   0.000000   \n",
              "musculoskeletal  0.000000  0.002918  0.007673  0.005836   0.007673   0.038366   \n",
              "respiratory      0.004619  0.003513  0.000000  0.000000   0.000000   0.000000   \n",
              "\n",
              "                 abductor   abducts      abgs   ability  ...   ﬁjacksﬂ  \\\n",
              "Ch_No                                                    ...             \n",
              "ear_nose         0.000000  0.000000  0.000000  0.004516  ...  0.000000   \n",
              "musculoskeletal  0.003837  0.003837  0.000000  0.004532  ...  0.003837   \n",
              "respiratory      0.000000  0.000000  0.004619  0.013641  ...  0.000000   \n",
              "\n",
              "                 ﬁmicroatelectasisﬂ      ﬁout  ﬁpunched  ﬁslowing   ﬁtennis  \\\n",
              "Ch_No                                                                         \n",
              "ear_nose                   0.000000  0.000000  0.000000  0.000000  0.000000   \n",
              "musculoskeletal            0.000000  0.000000  0.003837  0.000000  0.003837   \n",
              "respiratory                0.004619  0.004619  0.000000  0.004619  0.000000   \n",
              "\n",
              "                 ﬁthumbprintﬂ    ﬁvoice  ﬁwhiteoutsﬂ    ﬁwingﬂ  \n",
              "Ch_No                                                           \n",
              "ear_nose             0.000000  0.000000     0.000000  0.000000  \n",
              "musculoskeletal      0.000000  0.000000     0.000000  0.003837  \n",
              "respiratory          0.004619  0.004619     0.004619  0.000000  \n",
              "\n",
              "[3 rows x 5129 columns]"
            ]
          },
          "execution_count": 19,
          "metadata": {},
          "output_type": "execute_result"
        }
      ],
      "source": [
        "pd.DataFrame(doc_word_tfidf.toarray(), index=df02['Ch_No'], columns = tfidf.get_feature_names_out()).head()"
      ]
    },
    {
      "cell_type": "markdown",
      "metadata": {
        "id": "i06woiz0itH3"
      },
      "source": [
        "### Topic Modeling: **LDA**"
      ]
    },
    {
      "cell_type": "code",
      "execution_count": null,
      "metadata": {
        "id": "whPwlzo-itH3"
      },
      "outputs": [],
      "source": [
        "# Convert sparse matrix of counts to a gensim corpus\n",
        "corpus = matutils.Sparse2Corpus(doc_word_cv)"
      ]
    },
    {
      "cell_type": "code",
      "execution_count": null,
      "metadata": {
        "id": "TJiaYa-oitH3"
      },
      "outputs": [],
      "source": [
        "id2word = dict((v, k) for k, v in count_vectorizer.vocabulary_.items())"
      ]
    },
    {
      "cell_type": "code",
      "execution_count": null,
      "metadata": {
        "id": "VyI13a8vitH4"
      },
      "outputs": [],
      "source": [
        "# Create lda model (equivalent to \"fit\" in sklearn)\n",
        "lda = models.LdaModel(corpus=corpus, num_topics=3, id2word=id2word, passes=5)"
      ]
    },
    {
      "cell_type": "code",
      "execution_count": null,
      "metadata": {
        "id": "ci-jG8DGitH4",
        "outputId": "74681b03-aa2a-4fac-c9d1-51b445c2847a"
      },
      "outputs": [
        {
          "data": {
            "text/plain": [
              "[(0,\n",
              "  '0.332*\"abduct\" + 0.321*\"abdomen\" + 0.279*\"aap\" + 0.000*\"phosphate\" + 0.000*\"phonation\" + 0.000*\"phosphatase\" + 0.000*\"phlebotomy\" + 0.000*\"phrase\" + 0.000*\"phosphatidylglycerol\" + 0.000*\"physically\"'),\n",
              " (1,\n",
              "  '0.001*\"abdomen\" + 0.000*\"abduct\" + 0.000*\"aap\" + 0.000*\"phosphate\" + 0.000*\"phonation\" + 0.000*\"phosphatase\" + 0.000*\"phlebotomy\" + 0.000*\"phrase\" + 0.000*\"phosphatidylglycerol\" + 0.000*\"physically\"'),\n",
              " (2,\n",
              "  '0.001*\"aap\" + 0.000*\"abdomen\" + 0.000*\"abduct\" + 0.000*\"phosphate\" + 0.000*\"phonation\" + 0.000*\"phosphatase\" + 0.000*\"phlebotomy\" + 0.000*\"phrase\" + 0.000*\"phosphatidylglycerol\" + 0.000*\"physically\"')]"
            ]
          },
          "execution_count": 20,
          "metadata": {},
          "output_type": "execute_result"
        }
      ],
      "source": [
        "lda.print_topics(3)"
      ]
    },
    {
      "cell_type": "markdown",
      "metadata": {
        "id": "WS8hq8HaitH5"
      },
      "source": [
        "### Performing CorEx:"
      ]
    },
    {
      "cell_type": "code",
      "execution_count": null,
      "metadata": {
        "id": "gyUAnrR9itH5",
        "outputId": "77eeb3dd-2b79-4250-9250-46fababd5dbe"
      },
      "outputs": [
        {
          "name": "stderr",
          "output_type": "stream",
          "text": [
            "/Users/hs/Documents/SDAIA_DS_T5/Course_Material/NBM_Unsupervised_Gamma/curriculum/.venv/lib/python3.9/site-packages/sklearn/utils/deprecation.py:87: FutureWarning: Function get_feature_names is deprecated; get_feature_names is deprecated in 1.0 and will be removed in 1.2. Please use get_feature_names_out instead.\n",
            "  warnings.warn(msg, category=FutureWarning)\n"
          ]
        }
      ],
      "source": [
        "from corextopic import corextopic as ct\n",
        "from corextopic import vis_topic as vt\n",
        "\n",
        "words = list(np.asarray(count_vectorizer.get_feature_names()))\n"
      ]
    },
    {
      "cell_type": "code",
      "execution_count": null,
      "metadata": {
        "id": "cPXC5IRyitH6",
        "outputId": "b681884c-30f5-4d35-e8e6-b5404eaa4579"
      },
      "outputs": [
        {
          "name": "stdout",
          "output_type": "stream",
          "text": [
            "WARNING: Some words never appear (or always appear)\n"
          ]
        },
        {
          "data": {
            "text/plain": [
              "<corextopic.corextopic.Corex at 0x7f7fd4614e50>"
            ]
          },
          "execution_count": 23,
          "metadata": {},
          "output_type": "execute_result"
        }
      ],
      "source": [
        "topic_model = ct.Corex(n_hidden=3, words=words, seed=1)\n",
        "topic_model.fit(doc_word_cv, words=words, docs=df02['string_values'])"
      ]
    },
    {
      "cell_type": "code",
      "execution_count": null,
      "metadata": {
        "id": "gXJJ_6FiitH6",
        "outputId": "d8bca5e0-6037-4dd3-f9ca-b45c2fc12a65"
      },
      "outputs": [
        {
          "name": "stdout",
          "output_type": "stream",
          "text": [
            "0: aap,nontension,nonsmoker,nonrebreathing,nonputrid,nonpulmonaryšanxiety,nonmotile,noncaseating,noncardiac,nodosum\n",
            "1: abduct,myelography,myelogram,musculature,mri,mouse,monosodium,monohydrate,moleskin,molecule\n",
            "2: lingers,operating,oozing,olfactory,oily,offensive,occursñmost,option,obviously,obstructs\n"
          ]
        }
      ],
      "source": [
        "topics = topic_model.get_topics()\n",
        "for n,topic in enumerate(topics):\n",
        "    topic_words,_,_ = zip(*topic)\n",
        "    print('{}: '.format(n) + ','.join(topic_words))"
      ]
    },
    {
      "cell_type": "markdown",
      "metadata": {
        "id": "VMmL1pXTitH6"
      },
      "source": [
        "### Topic Modeling: LSA"
      ]
    },
    {
      "cell_type": "code",
      "execution_count": null,
      "metadata": {
        "id": "_R42jqzWitH6",
        "outputId": "faf743dc-b004-43f0-caeb-ea2616c9952a"
      },
      "outputs": [
        {
          "name": "stdout",
          "output_type": "stream",
          "text": [
            "[0.047535   0.57893652 0.37352848]\n"
          ]
        }
      ],
      "source": [
        "lsa = TruncatedSVD(3)\n",
        "doc_topic = lsa.fit_transform(doc_word_cv)\n",
        "print(lsa.explained_variance_ratio_)"
      ]
    },
    {
      "cell_type": "code",
      "execution_count": null,
      "metadata": {
        "id": "2DI8Yv3xitH7",
        "outputId": "5714e675-6e32-4c8b-ffbf-874b7b3d8cbf"
      },
      "outputs": [
        {
          "name": "stdout",
          "output_type": "stream",
          "text": [
            "              aap  abdomen  abduct  abducted  abducting  abduction  abductor  \\\n",
            "component0  0.001    0.003   0.003     0.005      0.003      0.017     0.002   \n",
            "component1  0.000   -0.002  -0.004    -0.002     -0.004     -0.022    -0.002   \n",
            "component2  0.004    0.003  -0.002    -0.003     -0.002     -0.010    -0.001   \n",
            "\n",
            "            abducts   abgs  ability  ...  ﬁjacksﬂ  ﬁmicroatelectasisﬂ   ﬁout  \\\n",
            "component0    0.002  0.001    0.011  ...    0.002               0.001  0.001   \n",
            "component1   -0.002  0.000    0.001  ...   -0.002               0.000  0.000   \n",
            "component2   -0.001  0.004    0.014  ...   -0.001               0.004  0.004   \n",
            "\n",
            "            ﬁpunched  ﬁslowing  ﬁtennis  ﬁthumbprintﬂ  ﬁvoice  ﬁwhiteoutsﬂ  \\\n",
            "component0     0.002     0.001    0.002         0.001   0.001        0.001   \n",
            "component1    -0.002     0.000   -0.002         0.000   0.000        0.000   \n",
            "component2    -0.001     0.004   -0.001         0.004   0.004        0.004   \n",
            "\n",
            "            ﬁwingﬂ  \n",
            "component0   0.002  \n",
            "component1  -0.002  \n",
            "component2  -0.001  \n",
            "\n",
            "[3 rows x 5129 columns]\n"
          ]
        }
      ],
      "source": [
        "topic_word = pd.DataFrame(lsa.components_.round(3),\n",
        "             index = ['component'+str(i) for i in range(3)],\n",
        "             columns = count_vectorizer.get_feature_names_out())\n",
        "\n",
        "print(topic_word)"
      ]
    },
    {
      "cell_type": "code",
      "execution_count": null,
      "metadata": {
        "id": "WSC1rUhLitH7"
      },
      "outputs": [],
      "source": [
        "tem_list = []\n",
        "def display_topics(model, feature_names, no_top_words, topic_names=None):\n",
        "\n",
        "    for ix, topic in enumerate(model.components_):\n",
        "        inner_tem_list = []\n",
        "\n",
        "        if not topic_names or not topic_names[ix]:\n",
        "            print(\"\\nTopic \", ix)\n",
        "        else:\n",
        "            print(\"\\nTopic: '\",topic_names[ix],\"'\")\n",
        "\n",
        "        print(\", \".join([feature_names[i]\n",
        "                        for i in topic.argsort()[:-no_top_words - 1:-1]]))\n",
        "        inner_tem_list.append(\", \".join([feature_names[i] for i in topic.argsort()[:-no_top_words - 1:-1]]))\n",
        "        tem_list.append(inner_tem_list)"
      ]
    },
    {
      "cell_type": "code",
      "execution_count": null,
      "metadata": {
        "id": "Lbh2ZER2itH7",
        "outputId": "60b55d5f-8f8e-4786-ef48-697e133188c5"
      },
      "outputs": [
        {
          "name": "stdout",
          "output_type": "stream",
          "text": [
            "\n",
            "Topic  0\n",
            "bone, muscle, ear, otitis, hearing, medium, membrane, bleeding, airway, deformity, obstruction, cord, canal, hip, abscess, throat, oxygen, ventilation, attack, nose\n",
            "\n",
            "Topic  1\n",
            "ear, otitis, hearing, medium, throat, sinusitis, nose, bleeding, membrane, externa, obstruction, sinus, septum, abscess, polyp, cord, canal, speech, airway, voice\n",
            "\n",
            "Topic  2\n",
            "ventilation, oxygen, airway, copd, breathing, alveolus, acidosis, hg, bronchiectasis, embolus, crackle, artery, collapse, silicosis, distress, inspiration, obstruction, cwp, pulse, well\n"
          ]
        }
      ],
      "source": [
        "result1 = display_topics(lsa, count_vectorizer.get_feature_names_out(), 20)"
      ]
    },
    {
      "cell_type": "code",
      "execution_count": null,
      "metadata": {
        "id": "kcT0fspgitH7"
      },
      "outputs": [],
      "source": [
        "tem_list\n",
        "final_dic = {}\n",
        "final_dic[\"Bone\"] = tem_list[0]\n",
        "final_dic[\"Ear\"] = tem_list[1]\n",
        "final_dic[\"Breathing\"] = tem_list[2]"
      ]
    },
    {
      "cell_type": "code",
      "execution_count": null,
      "metadata": {
        "id": "6CPa7ei_itH8",
        "outputId": "f405cae0-0131-4bca-f121-72463c02dfbb"
      },
      "outputs": [
        {
          "data": {
            "text/plain": [
              "{'Bone': ['bone, muscle, ear, otitis, hearing, medium, membrane, bleeding, airway, deformity, obstruction, cord, canal, hip, abscess, throat, oxygen, ventilation, attack, nose'],\n",
              " 'Ear': ['ear, otitis, hearing, medium, throat, sinusitis, nose, bleeding, membrane, externa, obstruction, sinus, septum, abscess, polyp, cord, canal, speech, airway, voice'],\n",
              " 'Breathing': ['ventilation, oxygen, airway, copd, breathing, alveolus, acidosis, hg, bronchiectasis, embolus, crackle, artery, collapse, silicosis, distress, inspiration, obstruction, cwp, pulse, well']}"
            ]
          },
          "execution_count": 26,
          "metadata": {},
          "output_type": "execute_result"
        }
      ],
      "source": [
        "final_dic"
      ]
    },
    {
      "cell_type": "code",
      "execution_count": null,
      "metadata": {
        "id": "2HHvb6zuitH8",
        "outputId": "4f4934d3-37b5-44d7-c3ff-0b707b606ba4"
      },
      "outputs": [
        {
          "data": {
            "text/html": [
              "<div>\n",
              "<style scoped>\n",
              "    .dataframe tbody tr th:only-of-type {\n",
              "        vertical-align: middle;\n",
              "    }\n",
              "\n",
              "    .dataframe tbody tr th {\n",
              "        vertical-align: top;\n",
              "    }\n",
              "\n",
              "    .dataframe thead th {\n",
              "        text-align: right;\n",
              "    }\n",
              "</style>\n",
              "<table border=\"1\" class=\"dataframe\">\n",
              "  <thead>\n",
              "    <tr style=\"text-align: right;\">\n",
              "      <th></th>\n",
              "      <th>0</th>\n",
              "    </tr>\n",
              "  </thead>\n",
              "  <tbody>\n",
              "    <tr>\n",
              "      <th>Bone</th>\n",
              "      <td>bone, muscle, ear, otitis, hearing, medium, me...</td>\n",
              "    </tr>\n",
              "    <tr>\n",
              "      <th>Ear</th>\n",
              "      <td>ear, otitis, hearing, medium, throat, sinusiti...</td>\n",
              "    </tr>\n",
              "    <tr>\n",
              "      <th>Breathing</th>\n",
              "      <td>ventilation, oxygen, airway, copd, breathing, ...</td>\n",
              "    </tr>\n",
              "  </tbody>\n",
              "</table>\n",
              "</div>"
            ],
            "text/plain": [
              "                                                           0\n",
              "Bone       bone, muscle, ear, otitis, hearing, medium, me...\n",
              "Ear        ear, otitis, hearing, medium, throat, sinusiti...\n",
              "Breathing  ventilation, oxygen, airway, copd, breathing, ..."
            ]
          },
          "execution_count": 31,
          "metadata": {},
          "output_type": "execute_result"
        }
      ],
      "source": [
        "tem_df = pd.DataFrame.from_dict(final_dic, orient ='index')\n",
        "tem_df"
      ]
    },
    {
      "cell_type": "code",
      "execution_count": null,
      "metadata": {
        "id": "YylLqhFUitH8"
      },
      "outputs": [],
      "source": [
        "# Declare a list that is to be converted into a column\n",
        "d_name = ['musculoskeletal', 'ear_nose', 'respiratory']\n",
        "\n",
        "# Using 'ch_no' as the column name\n",
        "# and equating it to the list\n",
        "tem_df['D_Name'] = d_name"
      ]
    },
    {
      "cell_type": "code",
      "execution_count": null,
      "metadata": {
        "id": "SqB8Xa1OitH9",
        "outputId": "afd288ee-61ae-4804-89b5-70813b01c8fa"
      },
      "outputs": [
        {
          "data": {
            "text/plain": [
              "Index([0, 'D_Name'], dtype='object')"
            ]
          },
          "execution_count": 33,
          "metadata": {},
          "output_type": "execute_result"
        }
      ],
      "source": [
        "tem_df.columns"
      ]
    },
    {
      "cell_type": "code",
      "execution_count": null,
      "metadata": {
        "id": "7MC9UZixitH9",
        "outputId": "754c59b1-e5df-4dd5-ccb7-554016ff3c37"
      },
      "outputs": [
        {
          "data": {
            "text/html": [
              "<div>\n",
              "<style scoped>\n",
              "    .dataframe tbody tr th:only-of-type {\n",
              "        vertical-align: middle;\n",
              "    }\n",
              "\n",
              "    .dataframe tbody tr th {\n",
              "        vertical-align: top;\n",
              "    }\n",
              "\n",
              "    .dataframe thead th {\n",
              "        text-align: right;\n",
              "    }\n",
              "</style>\n",
              "<table border=\"1\" class=\"dataframe\">\n",
              "  <thead>\n",
              "    <tr style=\"text-align: right;\">\n",
              "      <th></th>\n",
              "      <th>Description</th>\n",
              "      <th>D_Name</th>\n",
              "    </tr>\n",
              "  </thead>\n",
              "  <tbody>\n",
              "    <tr>\n",
              "      <th>Bone</th>\n",
              "      <td>bone, muscle, ear, otitis, hearing, medium, me...</td>\n",
              "      <td>musculoskeletal</td>\n",
              "    </tr>\n",
              "    <tr>\n",
              "      <th>Ear</th>\n",
              "      <td>ear, otitis, hearing, medium, throat, sinusiti...</td>\n",
              "      <td>ear_nose</td>\n",
              "    </tr>\n",
              "    <tr>\n",
              "      <th>Breathing</th>\n",
              "      <td>ventilation, oxygen, airway, copd, breathing, ...</td>\n",
              "      <td>respiratory</td>\n",
              "    </tr>\n",
              "  </tbody>\n",
              "</table>\n",
              "</div>"
            ],
            "text/plain": [
              "                                                 Description           D_Name\n",
              "Bone       bone, muscle, ear, otitis, hearing, medium, me...  musculoskeletal\n",
              "Ear        ear, otitis, hearing, medium, throat, sinusiti...         ear_nose\n",
              "Breathing  ventilation, oxygen, airway, copd, breathing, ...      respiratory"
            ]
          },
          "execution_count": 34,
          "metadata": {},
          "output_type": "execute_result"
        }
      ],
      "source": [
        "tem_df = tem_df.rename(columns={0: 'Description'})\n",
        "tem_df"
      ]
    },
    {
      "cell_type": "code",
      "execution_count": null,
      "metadata": {
        "id": "v36hs_tzitH-"
      },
      "outputs": [],
      "source": [
        "tem_df.to_csv('diseases_with_description.csv', index=False)"
      ]
    },
    {
      "cell_type": "code",
      "execution_count": null,
      "metadata": {
        "id": "GINsS7BPitH-"
      },
      "outputs": [],
      "source": []
    }
  ],
  "metadata": {
    "interpreter": {
      "hash": "e20053a6a21f60b20031b0e753dd017cb749c39f38e8781debb23d87a774e1c7"
    },
    "kernelspec": {
      "display_name": "Python 3.9.2 64-bit ('.venv': venv)",
      "language": "python",
      "name": "python3"
    },
    "language_info": {
      "codemirror_mode": {
        "name": "ipython",
        "version": 3
      },
      "file_extension": ".py",
      "mimetype": "text/x-python",
      "name": "python",
      "nbconvert_exporter": "python",
      "pygments_lexer": "ipython3",
      "version": "3.9.2"
    },
    "orig_nbformat": 4,
    "colab": {
      "provenance": []
    }
  },
  "nbformat": 4,
  "nbformat_minor": 0
}
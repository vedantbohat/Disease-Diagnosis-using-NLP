{
  "cells": [
    {
      "cell_type": "markdown",
      "metadata": {
        "id": "8oubp944jcMh"
      },
      "source": [
        "### In this notebook we will implements a classification model & perform cosine similarity  "
      ]
    },
    {
      "cell_type": "code",
      "execution_count": null,
      "metadata": {
        "id": "YYj5kyQcjcMn"
      },
      "outputs": [],
      "source": [
        "import pandas as pd\n",
        "from sklearn.linear_model import LogisticRegression\n",
        "from sklearn.feature_extraction.text import CountVectorizer\n",
        "from sklearn.feature_extraction.text import TfidfVectorizer\n",
        "import re\n",
        "import pickle\n",
        "from numpy import dot\n",
        "from numpy.linalg import norm"
      ]
    },
    {
      "cell_type": "code",
      "execution_count": null,
      "metadata": {
        "id": "1ylz20zfjcMp"
      },
      "outputs": [],
      "source": [
        "# reading the stop words list with pickle\n",
        "with open ('stop_words.ob', 'rb') as fp:\n",
        "    domain_stop_word = pickle.load(fp)"
      ]
    },
    {
      "cell_type": "code",
      "execution_count": null,
      "metadata": {
        "id": "zf4mqCW5jcMr",
        "outputId": "811cc924-4cbc-4b52-944e-fe1943fdb9e2"
      },
      "outputs": [
        {
          "name": "stdout",
          "output_type": "stream",
          "text": [
            "                                         Description           D_Name\n",
            "0  bone, muscle, ear, otitis, hearing, membrane, ...  musculoskeletal\n",
            "1  ear, otitis, hearing, throat, sinusitis, bleed...         ear_nose\n",
            "2  ventilation, oxygen, airway, copd, breathing, ...      respiratory\n"
          ]
        }
      ],
      "source": [
        "# read data file\n",
        "file_path = 'diseases_with_description.csv'\n",
        "df = pd.read_csv(file_path)\n",
        "print(df.head())"
      ]
    },
    {
      "cell_type": "code",
      "execution_count": null,
      "metadata": {
        "id": "YTQdi8NxjcMt",
        "outputId": "ded7f172-53c6-41ca-a384-dde5d9f1325d"
      },
      "outputs": [
        {
          "data": {
            "text/html": [
              "<div>\n",
              "<style scoped>\n",
              "    .dataframe tbody tr th:only-of-type {\n",
              "        vertical-align: middle;\n",
              "    }\n",
              "\n",
              "    .dataframe tbody tr th {\n",
              "        vertical-align: top;\n",
              "    }\n",
              "\n",
              "    .dataframe thead th {\n",
              "        text-align: right;\n",
              "    }\n",
              "</style>\n",
              "<table border=\"1\" class=\"dataframe\">\n",
              "  <thead>\n",
              "    <tr style=\"text-align: right;\">\n",
              "      <th></th>\n",
              "      <th>Description</th>\n",
              "      <th>D_Name</th>\n",
              "    </tr>\n",
              "  </thead>\n",
              "  <tbody>\n",
              "    <tr>\n",
              "      <th>0</th>\n",
              "      <td>bone muscle ear otitis hearing membrane bleedi...</td>\n",
              "      <td>musculoskeletal</td>\n",
              "    </tr>\n",
              "    <tr>\n",
              "      <th>1</th>\n",
              "      <td>ear otitis hearing throat sinusitis bleeding n...</td>\n",
              "      <td>ear_nose</td>\n",
              "    </tr>\n",
              "    <tr>\n",
              "      <th>2</th>\n",
              "      <td>ventilation oxygen airway copd breathing acido...</td>\n",
              "      <td>respiratory</td>\n",
              "    </tr>\n",
              "  </tbody>\n",
              "</table>\n",
              "</div>"
            ],
            "text/plain": [
              "                                         Description           D_Name\n",
              "0  bone muscle ear otitis hearing membrane bleedi...  musculoskeletal\n",
              "1  ear otitis hearing throat sinusitis bleeding n...         ear_nose\n",
              "2  ventilation oxygen airway copd breathing acido...      respiratory"
            ]
          },
          "execution_count": 28,
          "metadata": {},
          "output_type": "execute_result"
        }
      ],
      "source": [
        "def clean_text_func(text):\n",
        "\n",
        "    \"\"\" this function clean & pre-process the data  \"\"\"\n",
        "\n",
        "    text = str(text)\n",
        "    text = text.lower()\n",
        "    # Clean the text\n",
        "    text = re.sub(r\"[^A-Za-z0-9^,!?.\\/'+]\", \" \", text)\n",
        "    text = re.sub(r\"\\+\", \" \", text)\n",
        "    text = re.sub(r\",\", \" \", text)\n",
        "    text = re.sub(r\"\\.\", \" \", text)\n",
        "    text = re.sub(r\"!\", \" \", text)\n",
        "    text = re.sub(r\"\\?\", \" \", text)\n",
        "    text = re.sub(r\"'\", \" \", text)\n",
        "    text = re.sub(r\":\", \" : \", text)\n",
        "    text = re.sub(r\"\\s{2,}\", \" \", text)\n",
        "    text = re.sub(r\"[0-9]\", \" \", text)\n",
        "    final_text = \"\"\n",
        "    for x in text.split():\n",
        "        if x not in domain_stop_word:\n",
        "            final_text = final_text + x  +\" \"\n",
        "    return final_text\n",
        "\n",
        "df['Description'] = df['Description'].apply(lambda x: clean_text_func(x))\n",
        "df.head()"
      ]
    },
    {
      "cell_type": "markdown",
      "metadata": {
        "id": "koBfRGH1jcMu"
      },
      "source": [
        "# Words Embedding:"
      ]
    },
    {
      "cell_type": "code",
      "execution_count": null,
      "metadata": {
        "id": "6QKDGJQKjcMv"
      },
      "outputs": [],
      "source": [
        "cv = CountVectorizer(stop_words=\"english\")\n",
        "cv_tfidf = TfidfVectorizer(stop_words=\"english\")\n",
        "\n",
        "X = cv.fit_transform(list(df.loc[:, 'Description' ]))\n",
        "X_tfidf = cv_tfidf.fit_transform(list(df.loc[:, 'Description' ]))"
      ]
    },
    {
      "cell_type": "code",
      "execution_count": null,
      "metadata": {
        "id": "YZX1B7RyjcMx",
        "outputId": "83da174d-a924-4bc0-fee8-ae0abc1a1929"
      },
      "outputs": [
        {
          "name": "stderr",
          "output_type": "stream",
          "text": [
            "/Users/hs/Documents/SDAIA_DS_T5/Course_Material/NBM_Unsupervised_Gamma/curriculum/.venv/lib/python3.9/site-packages/sklearn/utils/deprecation.py:87: FutureWarning: Function get_feature_names is deprecated; get_feature_names is deprecated in 1.0 and will be removed in 1.2. Please use get_feature_names_out instead.\n",
            "  warnings.warn(msg, category=FutureWarning)\n"
          ]
        }
      ],
      "source": [
        "df_cv = pd.DataFrame(X.toarray() , columns=cv.get_feature_names())\n",
        "df_tfidf = pd.DataFrame(X_tfidf.toarray() , columns=cv_tfidf.get_feature_names())"
      ]
    },
    {
      "cell_type": "code",
      "execution_count": null,
      "metadata": {
        "id": "blvoEL_wjcMy",
        "outputId": "91b3a6ea-c144-425a-d7ef-5b1faaa4047d"
      },
      "outputs": [
        {
          "name": "stdout",
          "output_type": "stream",
          "text": [
            "(3, 1016)\n"
          ]
        }
      ],
      "source": [
        "print(df_cv.shape)\n",
        "cosine = lambda v1 , v2 : dot(v1 , v2) / (norm(v1) * norm(v2))"
      ]
    },
    {
      "cell_type": "markdown",
      "metadata": {
        "id": "0gSkw058jcMz"
      },
      "source": [
        "### Cosine Similarity"
      ]
    },
    {
      "cell_type": "code",
      "execution_count": null,
      "metadata": {
        "id": "rSOgU7C-jcM0",
        "outputId": "bd433afd-48b7-4ace-9f33-a9454248bc4e"
      },
      "outputs": [
        {
          "name": "stdout",
          "output_type": "stream",
          "text": [
            "This is chpter number : 0 \n",
            "Cosin cv :    0.0818902227600523 \n",
            "Cosin TFIDF : 0.07304513144543733 \n",
            "This is chpter number : 1 \n",
            "Cosin cv :    0.11331668394168082 \n",
            "Cosin TFIDF : 0.10928108877281124 \n",
            "This is chpter number : 2 \n",
            "Cosin cv :    0.0 \n",
            "Cosin TFIDF : 0.0 \n"
          ]
        }
      ],
      "source": [
        "new_text = [\"dizziness loss of balance  vomiting tinnitus of hearing in the high frequency range in one ear difficulty focusing your eyes \"]\n",
        "new_text_cv = cv.transform(new_text).toarray()[0]\n",
        "new_text_tfidf = cv_tfidf.transform(new_text).toarray()[0]\n",
        "\n",
        "for chpter_number in range(int(df.shape[0])):\n",
        "    print(f\"This is chpter number : {chpter_number} \")\n",
        "    print(f\"Cosin cv :    { cosine( df_cv.iloc[chpter_number]  , new_text_cv )} \")\n",
        "    print(f\"Cosin TFIDF : { cosine( df_tfidf.iloc[chpter_number]  , new_text_tfidf) } \")"
      ]
    },
    {
      "cell_type": "markdown",
      "metadata": {
        "id": "l-GnHznwjcM1"
      },
      "source": [
        "### Implementing the classification model: LogisticRegression"
      ]
    },
    {
      "cell_type": "code",
      "execution_count": null,
      "metadata": {
        "id": "GRJ7Kyg1jcM1",
        "outputId": "a18dcbc6-6c83-4be1-c02c-cf495fd75dfa"
      },
      "outputs": [
        {
          "data": {
            "text/plain": [
              "Index(['Description', 'D_Name'], dtype='object')"
            ]
          },
          "execution_count": 33,
          "metadata": {},
          "output_type": "execute_result"
        }
      ],
      "source": [
        "df.columns"
      ]
    },
    {
      "cell_type": "code",
      "execution_count": null,
      "metadata": {
        "id": "YWONC5f1jcM1"
      },
      "outputs": [],
      "source": [
        "X_train = df.Description\n",
        "y_train = df.D_Name"
      ]
    },
    {
      "cell_type": "code",
      "execution_count": null,
      "metadata": {
        "id": "qoPTxqfSjcM2",
        "outputId": "e9905348-caf2-42dc-e3a1-40617ad8725e"
      },
      "outputs": [
        {
          "name": "stderr",
          "output_type": "stream",
          "text": [
            "/Users/hs/Documents/SDAIA_DS_T5/Course_Material/NBM_Unsupervised_Gamma/curriculum/.venv/lib/python3.9/site-packages/sklearn/utils/deprecation.py:87: FutureWarning: Function get_feature_names is deprecated; get_feature_names is deprecated in 1.0 and will be removed in 1.2. Please use get_feature_names_out instead.\n",
            "  warnings.warn(msg, category=FutureWarning)\n"
          ]
        }
      ],
      "source": [
        "cv1 = CountVectorizer()\n",
        "X_train_cv1 = cv1.fit_transform(X_train)\n",
        "pd_cv1 = pd.DataFrame(X_train_cv1.toarray(), columns=cv1.get_feature_names())"
      ]
    },
    {
      "cell_type": "code",
      "execution_count": null,
      "metadata": {
        "id": "jBlebULXjcM3",
        "outputId": "4e860324-0849-4b12-d7f8-09eb230e581f"
      },
      "outputs": [
        {
          "data": {
            "text/plain": [
              "LogisticRegression()"
            ]
          },
          "execution_count": 36,
          "metadata": {},
          "output_type": "execute_result"
        }
      ],
      "source": [
        "lr = LogisticRegression()\n",
        "lr.fit(X_train_cv1, y_train)"
      ]
    },
    {
      "cell_type": "code",
      "execution_count": null,
      "metadata": {
        "id": "iq87lKZRjcM4"
      },
      "outputs": [],
      "source": [
        "X_test = \"Difficulty sleeping or staying asleep Fever Fluid draining from ear  Loss of balance. Hearing difficulties. Ear pain\"\n",
        "cleaned_text = clean_text_func(X_test)"
      ]
    },
    {
      "cell_type": "code",
      "execution_count": null,
      "metadata": {
        "id": "f1S_8shOjcM5",
        "outputId": "31b55552-4c64-41b0-ac49-efa304ef34ad"
      },
      "outputs": [
        {
          "name": "stdout",
          "output_type": "stream",
          "text": [
            "['ear_nose']\n"
          ]
        }
      ],
      "source": [
        "X_test_cv3  = cv1.transform([cleaned_text])\n",
        "y_pred_cv3 = lr.predict(X_test_cv3)\n",
        "print(y_pred_cv3)"
      ]
    },
    {
      "cell_type": "markdown",
      "metadata": {
        "id": "9KGoaZxpjcM5"
      },
      "source": [
        "### In conclusion our model is abel to predict the disease, that given by user"
      ]
    }
  ],
  "metadata": {
    "interpreter": {
      "hash": "e20053a6a21f60b20031b0e753dd017cb749c39f38e8781debb23d87a774e1c7"
    },
    "kernelspec": {
      "display_name": "Python 3.9.2 64-bit ('.venv': venv)",
      "language": "python",
      "name": "python3"
    },
    "language_info": {
      "codemirror_mode": {
        "name": "ipython",
        "version": 3
      },
      "file_extension": ".py",
      "mimetype": "text/x-python",
      "name": "python",
      "nbconvert_exporter": "python",
      "pygments_lexer": "ipython3",
      "version": "3.9.2"
    },
    "orig_nbformat": 4,
    "colab": {
      "provenance": []
    }
  },
  "nbformat": 4,
  "nbformat_minor": 0
}